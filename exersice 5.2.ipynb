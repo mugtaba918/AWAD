{
 "cells": [
  {
   "cell_type": "code",
   "execution_count": 1,
   "id": "56992413-55a2-4212-ab78-cfbe5413fb99",
   "metadata": {},
   "outputs": [
    {
     "name": "stdout",
     "output_type": "stream",
     "text": [
      "(a) Number of rows: 20640\n",
      "(b) Target variable: median_house_value\n",
      "(c) Created new feature: avg_bedrooms_per_household\n",
      "(d) Selected features added to new DataFrame.\n",
      "(e) Standardized the features.\n",
      "\n",
      "Preview of standardized data:\n",
      "   housing_median_age  median_income  avg_bedrooms_per_household\n",
      "0            0.982119       2.344709                   -0.153859\n",
      "1           -0.607004       2.332181                   -0.262930\n",
      "2            1.856137       1.782656                   -0.049603\n",
      "3            1.856137       0.932945                   -0.050416\n",
      "4            1.856137      -0.012881                   -0.033567\n"
     ]
    }
   ],
   "source": [
    "# Import the libraries needed for data manipulation and math\n",
    "import pandas as pd\n",
    "import numpy as np\n",
    "\n",
    "# Function to normalize a vector to a 0–1 range\n",
    "def normalize(vector):\n",
    "    return (vector - np.min(vector)) / (np.max(vector) - np.min(vector))\n",
    "\n",
    "# Function to standardize a vector (convert to z-scores)\n",
    "def standardize(vector):\n",
    "    return (vector - np.mean(vector)) / np.std(vector, ddof=1)\n",
    "\n",
    "# Load the housing data file (make sure the CSV file is in the same folder as this notebook)\n",
    "df = pd.read_csv(\"calif_housing_data.csv.csv\")\n",
    "\n",
    "# (a) Get the number of rows in the dataset\n",
    "num_rows = df.shape[0]\n",
    "print(f\"(a) Number of rows: {num_rows}\")\n",
    "\n",
    "# (b) Identify the target variable for prediction\n",
    "target_vector = df['median_house_value']\n",
    "print(\"(b) Target variable: median_house_value\")\n",
    "\n",
    "# (c) Create a new feature: average bedrooms per household\n",
    "df['avg_bedrooms_per_household'] = df['total_bedrooms'] / df['households']\n",
    "print(\"(c) Created new feature: avg_bedrooms_per_household\")\n",
    "\n",
    "# (d) Create a new DataFrame with selected features\n",
    "df_selected = df[['housing_median_age', 'median_income', 'avg_bedrooms_per_household']]\n",
    "print(\"(d) Selected features added to new DataFrame.\")\n",
    "\n",
    "# (e) Standardize the selected features\n",
    "df_standardized = df_selected.apply(standardize)\n",
    "print(\"(e) Standardized the features.\")\n",
    "\n",
    "# Show the first few rows of the final standardized DataFrame\n",
    "print(\"\\nPreview of standardized data:\")\n",
    "print(df_standardized.head())\n"
   ]
  },
  {
   "cell_type": "code",
   "execution_count": null,
   "id": "435242ff-7b61-43a1-ac33-e6c467539637",
   "metadata": {},
   "outputs": [],
   "source": []
  }
 ],
 "metadata": {
  "kernelspec": {
   "display_name": "Python [conda env:base] *",
   "language": "python",
   "name": "conda-base-py"
  },
  "language_info": {
   "codemirror_mode": {
    "name": "ipython",
    "version": 3
   },
   "file_extension": ".py",
   "mimetype": "text/x-python",
   "name": "python",
   "nbconvert_exporter": "python",
   "pygments_lexer": "ipython3",
   "version": "3.12.7"
  }
 },
 "nbformat": 4,
 "nbformat_minor": 5
}
