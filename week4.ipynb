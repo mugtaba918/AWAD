{
 "cells": [
  {
   "cell_type": "code",
   "execution_count": 1,
   "id": "c6553d3a-6ef5-4244-9d8b-3994b4d6736d",
   "metadata": {},
   "outputs": [
    {
     "name": "stdout",
     "output_type": "stream",
     "text": [
      "R4 = 2.4957090681024408\n"
     ]
    }
   ],
   "source": [
    "import math\n",
    "\n",
    "# I define my function f(x)\n",
    "def f(x):\n",
    "    return math.sqrt(4 - x**2)\n",
    "\n",
    "# I define the right Riemann sum function\n",
    "def right_riemann_sum(f, a, b, n):\n",
    "    dx = (b - a) / n  # width of each rectangle\n",
    "    total = 0  # start total area at 0\n",
    "    \n",
    "    for k in range(1, n + 1):\n",
    "        x = a + k * dx  # right endpoint\n",
    "        total = total + f(x) * dx  # add area of rectangle\n",
    "    \n",
    "    return total  # final sum\n",
    "\n",
    "# I calculate R4 between 0 and 2\n",
    "result = right_riemann_sum(f, 0, 2, 4)\n",
    "print(\"R4 =\", result)\n"
   ]
  },
  {
   "cell_type": "code",
   "execution_count": null,
   "id": "ac3fd359-18b2-42b1-b3f1-4044024da4bb",
   "metadata": {},
   "outputs": [],
   "source": []
  }
 ],
 "metadata": {
  "kernelspec": {
   "display_name": "Python 3 (ipykernel)",
   "language": "python",
   "name": "python3"
  },
  "language_info": {
   "codemirror_mode": {
    "name": "ipython",
    "version": 3
   },
   "file_extension": ".py",
   "mimetype": "text/x-python",
   "name": "python",
   "nbconvert_exporter": "python",
   "pygments_lexer": "ipython3",
   "version": "3.12.7"
  }
 },
 "nbformat": 4,
 "nbformat_minor": 5
}
