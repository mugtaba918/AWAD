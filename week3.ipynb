{
 "cells": [
  {
   "cell_type": "code",
   "execution_count": 1,
   "id": "65f68c7d-09dc-4f6b-8aa2-cab5e4cca413",
   "metadata": {},
   "outputs": [
    {
     "name": "stdout",
     "output_type": "stream",
     "text": [
      "x = 2.9, f(x) = 38.178\n",
      "x = 2.99, f(x) = 42.50179800000001\n",
      "x = 2.999, f(x) = 42.95001799800001\n",
      "x = 3.0, f(x) = 43.0\n",
      "x = 3.001, f(x) = 43.050018001999995\n",
      "x = 3.01, f(x) = 43.50180199999999\n",
      "x = 3.1, f(x) = 48.18200000000001\n",
      "x = -0.1, g(x) = 0.9516258196404048\n",
      "x = -0.01, g(x) = 0.9950166250831893\n",
      "x = -0.001, g(x) = 0.9995001666249781\n",
      "x = 0.001, g(x) = 1.0005001667083846\n",
      "x = 0.01, g(x) = 1.005016708416795\n",
      "x = 0.1, g(x) = 1.0517091807564771\n",
      "15.0\n",
      "53.89999999999999\n",
      "51.45000000000002\n",
      "49.490000000000016\n",
      "49.04899999999903\n",
      "49.004899999997754\n",
      "49.00048999996949\n",
      "49.0\n",
      "26200\n",
      "2400\n",
      "-1800\n"
     ]
    }
   ],
   "source": [
    "import numpy as np\n",
    "\n",
    "def f(x):\n",
    "    return 2 * x**3 - 4 * x + 1\n",
    "\n",
    "x_vals = [2.9, 2.99, 2.999, 3.0, 3.001, 3.01, 3.1]\n",
    "f_results = [f(x) for x in x_vals]\n",
    "for x, val in zip(x_vals, f_results):\n",
    "    print(f\"x = {x}, f(x) = {val}\")\n",
    "\n",
    "def g(x):\n",
    "    return (np.exp(x) - 1) / x\n",
    "\n",
    "x_vals_g = [-0.1, -0.01, -0.001, 0.001, 0.01, 0.1]\n",
    "g_results = [g(x) for x in x_vals_g]\n",
    "for x, val in zip(x_vals_g, g_results):\n",
    "    print(f\"x = {x}, g(x) = {val}\")\n",
    "\n",
    "def average_rate_of_change(func, a, b):\n",
    "    return (func(b) - func(a)) / (b - a)\n",
    "\n",
    "def fx(x):\n",
    "    return 3 * x**2\n",
    "\n",
    "print(average_rate_of_change(fx, 1, 4))\n",
    "\n",
    "def distance(t):\n",
    "    return 4.9 * t**2\n",
    "\n",
    "print(average_rate_of_change(distance, 5, 6))\n",
    "print(average_rate_of_change(distance, 5, 5.5))\n",
    "print(average_rate_of_change(distance, 5, 5.1))\n",
    "\n",
    "intervals = [5.01, 5.001, 5.0001]\n",
    "for t2 in intervals:\n",
    "    print(average_rate_of_change(distance, 5, t2))\n",
    "\n",
    "def f_prime(t):\n",
    "    return 9.8 * t\n",
    "\n",
    "print(f_prime(5))\n",
    "\n",
    "def P(C, Y):\n",
    "    return 16000 + 2400*C - 1800*Y\n",
    "\n",
    "print(P(8, 5))\n",
    "print(2400)\n",
    "print(-1800)\n"
   ]
  },
  {
   "cell_type": "code",
   "execution_count": null,
   "id": "14aa25cc-9c27-433e-9e25-4a80f4603e14",
   "metadata": {},
   "outputs": [],
   "source": []
  }
 ],
 "metadata": {
  "kernelspec": {
   "display_name": "Python 3 (ipykernel)",
   "language": "python",
   "name": "python3"
  },
  "language_info": {
   "codemirror_mode": {
    "name": "ipython",
    "version": 3
   },
   "file_extension": ".py",
   "mimetype": "text/x-python",
   "name": "python",
   "nbconvert_exporter": "python",
   "pygments_lexer": "ipython3",
   "version": "3.12.7"
  }
 },
 "nbformat": 4,
 "nbformat_minor": 5
}
